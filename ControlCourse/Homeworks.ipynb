{
 "cells": [
  {
   "cell_type": "code",
   "execution_count": 2,
   "metadata": {},
   "outputs": [],
   "source": [
    "import numpy as np\n",
    "import matplotlib.pyplot as plt"
   ]
  },
  {
   "cell_type": "code",
   "execution_count": 14,
   "metadata": {
    "scrolled": true
   },
   "outputs": [
    {
     "data": {
      "text/plain": [
       "[<matplotlib.lines.Line2D at 0x7ff42023b250>]"
      ]
     },
     "execution_count": 14,
     "metadata": {},
     "output_type": "execute_result"
    },
    {
     "data": {
      "image/png": "[encoded data removed]",
      "text/plain": [
       "<Figure size 432x288 with 1 Axes>"
      ]
     },
     "metadata": {
      "needs_background": "light"
     },
     "output_type": "display_data"
    }
   ],
   "source": [
    "x_0=10\n",
    "\n",
    "def update(x):\n",
    "    dt=0.001\n",
    "    dxdt=(-x)**3\n",
    "    approx=x+dt*dxdt\n",
    "    return approx\n",
    "\n",
    "def run(x_0):\n",
    "    x=x_0\n",
    "    sol_lst=[]\n",
    "    for step in range(0,1000):\n",
    "        x=update(x)\n",
    "        sol_lst.append(x)\n",
    "        #print(x)\n",
    "    return sol_lst\n",
    "\n",
    "sol_lst=run(10)\n",
    "plt.plot(sol_lst)"
   ]
  },
  {
   "cell_type": "code",
   "execution_count": 16,
   "metadata": {},
   "outputs": [
    {
     "data": {
      "text/plain": [
       "[0, (beta - rho)/beta]"
      ]
     },
     "execution_count": 16,
     "metadata": {},
     "output_type": "execute_result"
    }
   ],
   "source": [
    "from sympy.solvers import solve\n",
    "\n",
    "from sympy import Symbol\n",
    "rho= Symbol('rho')\n",
    "I=Symbol('I')\n",
    "beta=Symbol('beta')\n",
    "solve(beta*I*(1-I)-rho*I, I)"
   ]
  }
 ],
 "metadata": {
  "kernelspec": {
   "display_name": "Python 3",
   "language": "python",
   "name": "python3"
  },
  "language_info": {
   "codemirror_mode": {
    "name": "ipython",
    "version": 3
   },
   "file_extension": ".py",
   "mimetype": "text/x-python",
   "name": "python",
   "nbconvert_exporter": "python",
   "pygments_lexer": "ipython3",
   "version": "3.7.4"
  }
 },
 "nbformat": 4,
 "nbformat_minor": 4
}

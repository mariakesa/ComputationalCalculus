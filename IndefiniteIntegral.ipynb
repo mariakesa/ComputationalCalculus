{
 "cells": [
  {
   "cell_type": "code",
   "execution_count": 3,
   "metadata": {},
   "outputs": [],
   "source": [
    "import numpy as np\n",
    "from scipy.integrate import odeint\n",
    "%matplotlib inline\n",
    "import matplotlib.pyplot as plt"
   ]
  },
  {
   "cell_type": "code",
   "execution_count": 8,
   "metadata": {},
   "outputs": [
    {
     "name": "stdout",
     "output_type": "stream",
     "text": [
      "[[100.        ]\n",
      " [ 90.25203051]\n",
      " [ 81.45428868]\n",
      " [ 73.51414898]\n",
      " [ 66.34801188]\n",
      " [ 59.88042745]\n",
      " [ 54.04330122]\n",
      " [ 48.775177  ]\n",
      " [ 44.02058601]\n",
      " [ 39.7294726 ]\n",
      " [ 35.85665505]\n",
      " [ 32.3613589 ]\n",
      " [ 29.20678312]\n",
      " [ 26.35971448]\n",
      " [ 23.79017724]\n",
      " [ 21.47111763]\n",
      " [ 19.37811931]\n",
      " [ 17.48914587]\n",
      " [ 15.784309  ]\n",
      " [ 14.24565914]\n",
      " [ 12.85699642]\n",
      " [ 11.60370013]\n",
      " [ 10.47257479]\n",
      " [  9.45171124]\n",
      " [  8.53036117]\n",
      " [  7.69882404]\n",
      " [  6.94834491]\n",
      " [  6.27102226]\n",
      " [  5.65972483]\n",
      " [  5.10801649]\n",
      " [  4.61008852]\n",
      " [  4.16069843]\n",
      " [  3.75511476]\n",
      " [  3.38906726]\n",
      " [  3.05870196]\n",
      " [  2.76054058]\n",
      " [  2.49144388]\n",
      " [  2.24857866]\n",
      " [  2.02938786]\n",
      " [  1.83156372]]\n"
     ]
    },
    {
     "data": {
      "text/plain": [
       "[<matplotlib.lines.Line2D at 0x7f9e70b1d5f8>]"
      ]
     },
     "execution_count": 8,
     "metadata": {},
     "output_type": "execute_result"
    },
    {
     "data": {
      "image/png": "[encoded data removed]",
      "text/plain": [
       "<Figure size 432x288 with 1 Axes>"
      ]
     },
     "metadata": {
      "needs_background": "light"
     },
     "output_type": "display_data"
    }
   ],
   "source": [
    "def acceleration(g,time):\n",
    "    return -g\n",
    "\n",
    "\n",
    "time_vec = np.linspace(0, 4, 40)\n",
    "v = odeint(acceleration, 100, time_vec)\n",
    "\n",
    "print(v)\n",
    "\n",
    "plt.plot(v)"
   ]
  }
 ],
 "metadata": {
  "kernelspec": {
   "display_name": "Python 3",
   "language": "python",
   "name": "python3"
  },
  "language_info": {
   "codemirror_mode": {
    "name": "ipython",
    "version": 3
   },
   "file_extension": ".py",
   "mimetype": "text/x-python",
   "name": "python",
   "nbconvert_exporter": "python",
   "pygments_lexer": "ipython3",
   "version": "3.7.3"
  }
 },
 "nbformat": 4,
 "nbformat_minor": 2
}

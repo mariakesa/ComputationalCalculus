{
 "cells": [
  {
   "cell_type": "code",
   "execution_count": 25,
   "metadata": {},
   "outputs": [],
   "source": [
    "import numpy as np\n",
    "import matplotlib.pyplot as plt\n",
    "from scipy import integrate\n",
    "import sympy as sm"
   ]
  },
  {
   "cell_type": "code",
   "execution_count": 23,
   "metadata": {},
   "outputs": [
    {
     "data": {
      "text/plain": [
       "[<matplotlib.lines.Line2D at 0x7fa51774b990>]"
      ]
     },
     "execution_count": 23,
     "metadata": {},
     "output_type": "execute_result"
    },
    {
     "data": {
      "image/png": "[encoded data removed]",
      "text/plain": [
       "<Figure size 432x288 with 1 Axes>"
      ]
     },
     "metadata": {
      "needs_background": "light"
     },
     "output_type": "display_data"
    }
   ],
   "source": [
    "def dxdt(x,t):\n",
    "    return np.sin(x)\n",
    "\n",
    "u = np.linspace(-10, 10,25)\n",
    "\n",
    "soln=integrate.odeint(dxdt,y0=[1],t=u)\n",
    "soln2=integrate.odeint(dxdt,y0=[np.pi],t=u)\n",
    "plt.plot(soln)\n",
    "plt.plot(soln2)"
   ]
  },
  {
   "cell_type": "code",
   "execution_count": 30,
   "metadata": {},
   "outputs": [
    {
     "name": "stdout",
     "output_type": "stream",
     "text": [
      "The equilibria of this system are [-1, 1]\n"
     ]
    }
   ],
   "source": [
    "#Find stable fixed points and classify their stability\n",
    "x = sm.symbols(\"x\")\n",
    "\n",
    "# differential equations\n",
    "B = x**2-1\n",
    "# use sympy's way of setting equations to zero\n",
    "BEqual = sm.Eq(B, 0)\n",
    "\n",
    "# compute equilibria (fixed points, extrema)\n",
    "fp = sm.solve(BEqual,x)\n",
    "print('The equilibria of this system are %s' %fp)"
   ]
  }
 ],
 "metadata": {
  "kernelspec": {
   "display_name": "Python 3",
   "language": "python",
   "name": "python3"
  },
  "language_info": {
   "codemirror_mode": {
    "name": "ipython",
    "version": 3
   },
   "file_extension": ".py",
   "mimetype": "text/x-python",
   "name": "python",
   "nbconvert_exporter": "python",
   "pygments_lexer": "ipython3",
   "version": "3.7.4"
  }
 },
 "nbformat": 4,
 "nbformat_minor": 2
}
